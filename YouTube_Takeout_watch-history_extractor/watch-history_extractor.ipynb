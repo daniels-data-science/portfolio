{
 "cells": [
  {
   "cell_type": "code",
   "execution_count": 2,
   "id": "92568efe-2138-42a0-8178-770667e25684",
   "metadata": {},
   "outputs": [],
   "source": [
    "import os\n",
    "import re\n",
    "import html\n",
    "from tqdm import tqdm\n",
    "import numpy as np \n",
    "import pandas as pd"
   ]
  },
  {
   "cell_type": "code",
   "execution_count": 2,
   "id": "3c77f614-b94e-4403-8e62-da477ec63711",
   "metadata": {},
   "outputs": [],
   "source": [
    "def scrape_watch_history_html(\n",
    "    path = os.path.join('Takeout', 'YouTube and YouTube Music', 'history', 'watch-history.html')\n",
    "):\n",
    "    \"\"\"\n",
    "    This function parses Google Takeout's watch-history.html file to extract relevant data. \n",
    "    Extracted data is written to a .csv file.\n",
    "    \n",
    "    Parameters:\n",
    "    path (str): The file path to the YouTube watch history HTML file. The default assumes the 'Takeout' folder is in the same directory\n",
    "    \n",
    "    Returns:\n",
    "    None. A .csv file 'Youtube_history.csv' is written to disk.\n",
    "    \n",
    "    CSV file format:\n",
    "    The resulting .csv file has the following columns:\n",
    "    'timestamp','vid_title','vid_link','channel_name','channel_link'\n",
    "    \n",
    "    The CSV file uses a tab as a delimiter to prevent issues with commas in the data fields.\n",
    "    \"\"\"\n",
    "    df = pd.DataFrame(\n",
    "        columns=[\n",
    "            'vid_link', \n",
    "            'vid_title', \n",
    "            'channel_link', \n",
    "            'channel_name', \n",
    "            'timestamp'\n",
    "        ]\n",
    "    )\n",
    "\n",
    "    with open(path, 'r', encoding='utf-8') as file:\n",
    "        data = file.read()\n",
    "\n",
    "    pattern = re.compile(\n",
    "        r'>Watched\\xa0<a href=\"([^\"]+)\">([^>]+)</a><br><a href=\"([^\"]+)\">([^>]+)</a><br>([^>]+)</div>'\n",
    "    )                         #vid_link #vid_title         #channel_link  #channel_name  #timestamp\n",
    "    \n",
    "    print('Collecting video entries... (this could take a while)')\n",
    "    list_of_details = pattern.findall(data)\n",
    "    \n",
    "    for i, session in enumerate(list_of_details):\n",
    "\n",
    "        vid_link     = session[0]\n",
    "        vid_title    = session[1] \n",
    "        channel_link = session[2]\n",
    "        channel_name = session[3]\n",
    "        timestamp    = session[4]\n",
    "        # The indices of list_of_details correspond to the groups captured in the regex pattern (round brackets)\n",
    "        \n",
    "        df.loc[i] = vid_link, vid_title, channel_link, channel_name, timestamp\n",
    "    \n",
    "    df.vid_title = df.vid_title.apply(html.unescape)\n",
    "    df.channel_name = df.channel_name.apply(html.unescape)\n",
    "    # html.unescape() translates HTML character reference. eg: #39; to ' \n",
    "                                     \n",
    "    print(f'''\n",
    "    From {df.timestamp.iloc[-1]} \n",
    "      to {df.timestamp.iloc[0]}\n",
    "      \n",
    "      {df.shape[0]} videos watched.\n",
    "    ''')\n",
    "    \n",
    "    print('Exporting dataset...')\n",
    "    df.to_csv(\n",
    "        'Youtube_history.csv',\n",
    "        encoding='utf-8',\n",
    "        index = False,\n",
    "        columns= ['timestamp','vid_title','vid_link','channel_name','channel_link'],\n",
    "        sep ='\\t' # because YouTube titles do not contain tabs\n",
    "    )\n",
    "    \n",
    "    print('Youtube_history.csv is ready!') "
   ]
  },
  {
   "cell_type": "code",
   "execution_count": 6,
   "id": "4129fb2b-d89e-4a7d-9eb8-930120c2a80c",
   "metadata": {},
   "outputs": [
    {
     "name": "stdout",
     "output_type": "stream",
     "text": [
      "Collecting video entries...\n",
      "From Dec 15, 2020, 8:32:50 AM AEST to Jul 6, 2023, 4:20:07 PM AEST, 43812 videos were watched.\n",
      "Exporting dataset...\n",
      "Youtube_history.csv is ready!\n"
     ]
    }
   ],
   "source": [
    "while True:\n",
    "    try: \n",
    "        scrape_watch_history_html()\n",
    "    except Error:\n",
    "        print('An error occurred')\n",
    "    else:\n",
    "        break\n",
    "        exit()"
   ]
  }
 ],
 "metadata": {
  "kernelspec": {
   "display_name": "Python 3 (ipykernel)",
   "language": "python",
   "name": "python3"
  },
  "language_info": {
   "codemirror_mode": {
    "name": "ipython",
    "version": 3
   },
   "file_extension": ".py",
   "mimetype": "text/x-python",
   "name": "python",
   "nbconvert_exporter": "python",
   "pygments_lexer": "ipython3",
   "version": "3.9.16"
  }
 },
 "nbformat": 4,
 "nbformat_minor": 5
}
