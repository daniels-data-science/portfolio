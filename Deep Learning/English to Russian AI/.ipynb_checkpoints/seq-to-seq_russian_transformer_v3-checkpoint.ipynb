{
 "cells": [
  {
   "cell_type": "markdown",
   "id": "e44fd5a6-3d46-41ee-a74e-29132d6458f4",
   "metadata": {
    "tags": []
   },
   "source": [
    "# **Transformer-based English to Russian AI**"
   ]
  },
  {
   "cell_type": "code",
   "execution_count": 1,
   "id": "c188065f-2a60-45ad-9f0f-e62487c04278",
   "metadata": {},
   "outputs": [
    {
     "name": "stderr",
     "output_type": "stream",
     "text": [
      "C:\\Users\\METABOX\\miniconda3\\envs\\tf\\lib\\site-packages\\tensorflow\\python\\keras\\engine\\training_arrays_v1.py:37: UserWarning: A NumPy version >=1.22.4 and <2.3.0 is required for this version of SciPy (detected version 1.21.6)\n",
      "  from scipy.sparse import issparse  # pylint: disable=g-import-not-at-top\n"
     ]
    },
    {
     "name": "stdout",
     "output_type": "stream",
     "text": [
      "2.10.0 [PhysicalDevice(name='/physical_device:GPU:0', device_type='GPU')] 2.10.0\n"
     ]
    }
   ],
   "source": [
    "import os\n",
    "import re\n",
    "import warnings\n",
    "import random\n",
    "import numpy as np\n",
    "import tensorflow as tf\n",
    "import keras\n",
    "from keras import layers, optimizers\n",
    "print(\n",
    "    tf.__version__, \n",
    "    tf.config.list_physical_devices('GPU'), # GPU required for this task\n",
    "    keras.__version__\n",
    ")"
   ]
  },
  {
   "cell_type": "markdown",
   "id": "ebd57255-ba9f-4183-be39-108f6b27f901",
   "metadata": {},
   "source": [
    "We will be using a text file provided by [Anki's Russian-English biligual sentence pairs](http://www.manythings.org/anki/) for this project. \n"
   ]
  },
  {
   "cell_type": "markdown",
   "id": "a0796632-9ae8-4997-879d-cb42bfdf119d",
   "metadata": {},
   "source": [
    "## **Data Preprocessings**\n",
    "#### 1. Add `\"[start]\"` and `\"[end]\"` tokens to the Russian text"
   ]
  },
  {
   "cell_type": "code",
   "execution_count": 2,
   "id": "06e20447-ca23-49c2-af83-dd33a0d01ae3",
   "metadata": {},
   "outputs": [],
   "source": [
    "bilingual_file_dir = \"rus.txt\"\n",
    "# this is a csv file containing English in the first column and Russian in the second\n",
    "\n",
    "with open(bilingual_file_dir, encoding='utf-8') as f: \n",
    "    lines = f.read().split(\"\\n\")\n",
    "text_pairs = []        \n",
    "for line in lines:\n",
    "    english, russian, _ = line.split(\"\\t\") # ignore the third column\n",
    "    russian = \"[start] \" + russian + \" [end]\"\n",
    "    text_pairs.append((english, russian))\n",
    "    \n",
    "print(len(text_pairs)) "
   ]
  },
  {
   "cell_type": "markdown",
   "id": "cbf05867-7b8a-4346-8b69-3d0fa6399286",
   "metadata": {},
   "source": [
    "#### 2. Split the paired data into train/val/test groups"
   ]
  },
  {
   "cell_type": "code",
   "execution_count": 3,
   "id": "0952c28b-d888-4138-815e-ae09d26c085b",
   "metadata": {},
   "outputs": [
    {
     "name": "stdout",
     "output_type": "stream",
     "text": [
      "487600\n"
     ]
    }
   ],
   "source": [
    "random.shuffle(text_pairs)\n",
    "num_val_samples = int(0.15 * len(text_pairs))\n",
    "num_train_samples = len(text_pairs) - 2 * num_val_samples\n",
    "train_pairs = text_pairs[:num_train_samples]\n",
    "val_pairs = text_pairs[num_train_samples:num_train_samples + num_val_samples]\n",
    "test_pairs = text_pairs[num_train_samples + num_val_samples:]\n",
    "\n",
    "print(len(train_pairs), len(val_pairs), len(test_pairs))"
   ]
  },
  {
   "cell_type": "markdown",
   "id": "44a640d3-b57b-4e5c-8edd-0d56761218c0",
   "metadata": {},
   "source": [
    "#### 3. Standardise sentences"
   ]
  },
  {
   "cell_type": "code",
   "execution_count": 5,
   "id": "e6afd986-b5a6-4a2c-bee0-f71a71b72968",
   "metadata": {},
   "outputs": [],
   "source": [
    "def standardize(string):\n",
    "    strip_chars = '\"#$%&\\'()*+,-./:;<=>@\\\\^_`{|}~—'\n",
    "    # English and Russian largely share the same punctuation\n",
    "    \n",
    "    string = tf.strings.lower(string)\n",
    "    \n",
    "    string = tf.strings.regex_replace(string, f\"[{re.escape(strip_chars)}]\", \"\")\n",
    "    # Remove characters in strip_chars using regular expression\n",
    "    return string"
   ]
  },
  {
   "cell_type": "markdown",
   "id": "3f78ebd6-f575-4c32-baf5-ec0b9ca5d297",
   "metadata": {},
   "source": [
    "#### 4. Set tokenisation parameters\n",
    "`vocab_size`: the top *n* most frequent tokens in the training texts for both languages.\n",
    "`sequence_length`: English and Russian sentences cannot exceed this many words. Words after this cap will be cut off."
   ]
  },
  {
   "cell_type": "code",
   "execution_count": 4,
   "id": "a1d36335-152d-40bd-8872-995a7829c123",
   "metadata": {},
   "outputs": [],
   "source": [
    "vocab_size = 25_000\n",
    "sequence_length = 20"
   ]
  },
  {
   "cell_type": "markdown",
   "id": "8e711a46-1b38-426f-bfd5-50ab280a7fec",
   "metadata": {},
   "source": [
    "#### 5. Index each word to build a vocabulary\n",
    "`TextVectorization` on an example corpus:\n",
    "* \"I saw the red car.\"\n",
    "* \"The dog will bark at the car!\"\n",
    "\n",
    "After **standardisation**:\n",
    "  * \"i saw the red car\"\n",
    "  * \"the dog will bark at the car\"\n",
    "\n",
    "After **tokenisation**:\n",
    "  * [\"i\", \"saw\", \"the\", \"red\", \"car\"]\n",
    "  * [\"the\", \"dog\", \"will\", \"bark\", \"at\", \"the\", \"car\"]\n",
    "\n",
    "Each token is **replaced with a unique integer** ranging up to `vocab_size`, where '1' is the most frequent token in the corpus:\n",
    "  * [3, 4, 1, 5, 2]\n",
    "  * [1, 6, 7, 8, 9, 1, 2]\n",
    "\n",
    " \n",
    "We will be doing this same process for Anki's 487,600 pairs of Russian-English sentences."
   ]
  },
  {
   "cell_type": "code",
   "execution_count": 6,
   "id": "2bf44584-14a7-4bff-87a6-b18bce4e90af",
   "metadata": {},
   "outputs": [],
   "source": [
    "eng_vectorization = layers.TextVectorization( # maps text to integer sequences\n",
    "    max_tokens=vocab_size,\n",
    "    output_mode=\"int\",\n",
    "    output_sequence_length=sequence_length,\n",
    "    standardize=standardize\n",
    ")\n",
    "rus_vectorization = layers.TextVectorization(\n",
    "    max_tokens=vocab_size,\n",
    "    output_mode=\"int\",\n",
    "    output_sequence_length=sequence_length + 1, # needs to be one step ahead\n",
    "    standardize=standardize\n",
    ")\n",
    "\n",
    "train_english_texts = [pair[0] for pair in train_pairs]\n",
    "train_russian_texts = [pair[1] for pair in train_pairs]\n",
    "\n",
    "# the .adapt() method builds the vocabulary from input data\n",
    "eng_vectorization.adapt(train_english_texts)\n",
    "rus_vectorization.adapt(train_russian_texts)\n",
    "\n",
    "rus_index_lookup = dict(enumerate(rus_vectorization.get_vocabulary()))\n",
    "# {0: '', 1: '[UNK]', 2: '[start]', 3: '[end]', 4: 'Я', 5: 'не',... `vocab_size`-1: 'намереваешься'}"
   ]
  },
  {
   "cell_type": "code",
   "execution_count": 7,
   "id": "9be256b3-20fd-4fcc-8fd8-22d0dfd0934e",
   "metadata": {
    "scrolled": true
   },
   "outputs": [],
   "source": [
    "batch_size = 128 \n",
    "\n",
    "def format_dataset(eng, rus):\n",
    "    eng = eng_vectorization(eng)\n",
    "    rus = rus_vectorization(rus)\n",
    "    return (\n",
    "        {\"english\": eng, \"russian\": rus[:, :-1]}, \n",
    "        # these dict keys will also be the model's Input layers' names\n",
    "        rus[:, 1:]\n",
    "    )\n",
    "    # returns a tuple that will be the model's two inputs\n",
    "\n",
    "def make_dataset(pairs):\n",
    "    eng_texts, rus_texts = zip(*pairs)\n",
    "    eng_texts = list(eng_texts)\n",
    "    rus_texts = list(rus_texts)\n",
    "    \n",
    "    dataset = tf.data.Dataset.from_tensor_slices((eng_texts, rus_texts))\n",
    "    # # Slicing a tuple of 1D tensors produces tuple elements containing scalar tensors.\n",
    "\n",
    "    dataset = dataset.batch(batch_size)\n",
    "    \n",
    "    dataset = dataset.map(format_dataset, num_parallel_calls=8)\n",
    "    \n",
    "    dataset = dataset.shuffle(2048).prefetch(16).cache()\n",
    "    # uses in-memory caching to speed up preprocessing.\n",
    "    return dataset\n",
    "\n",
    "train_ds = make_dataset(train_pairs)\n",
    "val_ds = make_dataset(val_pairs)\n",
    "test_ds = make_dataset(test_pairs)"
   ]
  },
  {
   "cell_type": "markdown",
   "id": "06a5ccdd-3ce4-48d9-9969-7c7980d369fc",
   "metadata": {},
   "source": [
    "## **Architecture**\n",
    "\n",
    "The transformer will the architecture as proposed in [Vaswani et al.'s \"*Attention Is All You Need*\"](https://arxiv.org/abs/1706.03762).\n",
    "\n",
    "![Vaswini et. al](https://www.researchgate.net/publication/339390384/figure/fig1/AS:860759328321536@1582232424168/The-transformer-model-from-Attention-is-all-you-need-Viswani-et-al.jpg)"
   ]
  },
  {
   "cell_type": "code",
   "execution_count": 8,
   "id": "0206ffe4-e8d4-452f-a112-7f7348133d89",
   "metadata": {},
   "outputs": [],
   "source": [
    "embed_dim = 256 # each embedded token is a vector of this length. \n",
    "#For ChatGPT, this value would be about 12,000\n",
    "\n",
    "dense_dim = 1024\n",
    "num_heads = 8"
   ]
  },
  {
   "cell_type": "markdown",
   "id": "a838eefa-95ff-4b43-875f-dc2678126768",
   "metadata": {},
   "source": [
    "The `PositionalEmbedding` combines *two* different embeddings: \n",
    "* token embeddings, which regard each word's unique semantics\n",
    "* position embeddings, which provide a unique embedding for each position in the sequence up to `sequence_length`. It ensures that the model can account for the order of tokens within the sequence.\n",
    "\n",
    "Adding together those two embeddings integrates their information."
   ]
  },
  {
   "cell_type": "code",
   "execution_count": 9,
   "id": "7b9ffe17-469e-4c8c-988c-ddb4dfdefdff",
   "metadata": {},
   "outputs": [],
   "source": [
    "class PositionalEmbedding(layers.Layer):\n",
    "    def __init__(self, sequence_length, input_dim, output_dim, **kwargs):\n",
    "        super().__init__(**kwargs)\n",
    "        self.token_embeddings = layers.Embedding(\n",
    "            input_dim=input_dim, output_dim=output_dim\n",
    "        )\n",
    "        self.position_embeddings = layers.Embedding(\n",
    "            input_dim=sequence_length, output_dim=output_dim\n",
    "        )\n",
    "        self.sequence_length = sequence_length\n",
    "        self.input_dim = input_dim\n",
    "        self.output_dim = output_dim\n",
    "\n",
    "    def compute_mask(self, inputs, mask=None):\n",
    "        # since sentences vary in length, shorter sentences will be padded\n",
    "        # masking is to avoid considering padded positions\n",
    "        \n",
    "        return tf.math.not_equal(inputs, 0) # does not work on latest tf\n",
    "    \n",
    "    def call(self, inputs):\n",
    "        length = tf.shape(inputs)[-1]\n",
    "        positions = tf.range(start=0, limit=length, delta=1)\n",
    "        \n",
    "        embedded_tokens = self.token_embeddings(inputs) \n",
    "        embedded_positions = self.position_embeddings(positions)\n",
    "\n",
    "        embeddeding = embedded_tokens + embedded_positions\n",
    "        # combines position information with token representation\n",
    "        \n",
    "        return embeddeding  \n",
    "\n",
    "    def get_config(self):\n",
    "        config = super().get_config()\n",
    "        config.update({\n",
    "            'output_dim':self.output_dim,\n",
    "            'sequence_length':self.sequence_length,\n",
    "            'input_dim':self.input_dim,\n",
    "        })\n",
    "        return config"
   ]
  },
  {
   "cell_type": "code",
   "execution_count": 10,
   "id": "98616bae-516b-4f5d-9ca6-3a3a11efc0f8",
   "metadata": {},
   "outputs": [],
   "source": [
    "class TransformerEncoder(layers.Layer):\n",
    "    def __init__(self, embed_dim, dense_dim, num_heads, **kwargs):\n",
    "        super().__init__(**kwargs)\n",
    "        self.embed_dim = embed_dim # size of token vectors, also the key_dim\n",
    "        self.dense_dim = dense_dim\n",
    "        self.num_heads = num_heads\n",
    "\n",
    "        self.multi_head_attention = layers.MultiHeadAttention(\n",
    "        # for every attention head:\n",
    "            # Q, K and V all have independent dense connections\n",
    "            # Then, the dense projection's are inputted into attention\n",
    "        # attention outputs of each head are concatenated together\n",
    "            num_heads=num_heads,\n",
    "            key_dim=embed_dim\n",
    "        )\n",
    "        \n",
    "        self.layernorm_1 = layers.LayerNormalization()\n",
    "        \n",
    "        self.dense_proj = keras.Sequential([\n",
    "            layers.Dense(dense_dim, activation='relu'),\n",
    "            layers.Dense(embed_dim)\n",
    "        ])\n",
    "        \n",
    "        self.layernorm_2 = layers.LayerNormalization()\n",
    "        \n",
    "    def call(self, inputs, mask=None):\n",
    "        if mask is not None:\n",
    "            mask = mask[:, tf.newaxis, :]\n",
    "        attention_output = self.multi_head_attention(\n",
    "            inputs, inputs, attention_mask=mask\n",
    "        )\n",
    "        before_fc = self.layernorm_1(inputs + attention_output)\n",
    "        after_fc  = self.dense_proj(before_fc)\n",
    "\n",
    "        final_output = self.layernorm_2(before_fc + after_fc)\n",
    "\n",
    "        return final_output\n",
    "    \n",
    "    def get_config(self):\n",
    "        config = super().get_config()\n",
    "        config.update({\n",
    "            \"embed_dim\": self.embed_dim,\n",
    "            \"num_heads\": self.num_heads,\n",
    "            \"dense_dim\": self.dense_dim,\n",
    "        })\n",
    "        return config  \n",
    "\n",
    "class TransformerDecoder(layers.Layer):\n",
    "    def __init__(self, embed_dim, dense_dim, num_heads, **kwargs):\n",
    "        super().__init__(**kwargs)\n",
    "        self.embed_dim = embed_dim\n",
    "        self.dense_dim = dense_dim\n",
    "        self.num_heads = num_heads\n",
    "\n",
    "        self.supports_masking = True\n",
    "        \n",
    "        self.multi_head_attention_1 = layers.MultiHeadAttention(\n",
    "            num_heads=num_heads, key_dim=embed_dim\n",
    "        )\n",
    "\n",
    "        self.layernorm_1 = layers.LayerNormalization()\n",
    "        \n",
    "        self.multi_head_attention_2 = layers.MultiHeadAttention(\n",
    "            num_heads=num_heads, key_dim=embed_dim\n",
    "        )\n",
    "\n",
    "        self.layernorm_2 = layers.LayerNormalization()\n",
    "\n",
    "        self.dense_proj  = keras.Sequential([\n",
    "            layers.Dense(self.dense_dim, activation='relu'),\n",
    "            layers.Dense(self.embed_dim)\n",
    "        ])\n",
    "\n",
    "        self.layernorm_3 = layers.LayerNormalization()\n",
    "\n",
    "    def get_causal_attention_mask(self, inputs): # necessary to prevent information leakage from future timesteps\n",
    "        input_shape = tf.shape(inputs)\n",
    "        batch_size, sequence_length = input_shape[0], input_shape[1]\n",
    "        \n",
    "        mask = tf.linalg.band_part( # returns lower triangle\n",
    "            tf.ones((sequence_length,sequence_length)), -1, 0\n",
    "        )\n",
    "        mask = tf.cast(mask, 'int32')\n",
    "        \n",
    "        mask = tf.tile( # Replicate 100 times along the new axis\n",
    "            mask[tf.newaxis, :, :], \n",
    "            \n",
    "            [batch_size, 1, 1] \n",
    "        )\n",
    "        return mask \n",
    "        # mask has shape: (batch_size, sequence_length, sequence_length)\n",
    "        \n",
    "    def call(self, inputs, encoder_outputs, mask=None):\n",
    "        causal_mask = self.get_causal_attention_mask(inputs)\n",
    "        if mask is not None:\n",
    "            padding_mask = tf.cast(\n",
    "                mask[:,tf.newaxis,:], dtype='int32'\n",
    "            )\n",
    "            padding_mask = tf.minimum(padding_mask, causal_mask)\n",
    "            \n",
    "        multi_head_1_output = self.multi_head_attention_1(\n",
    "            query=inputs, value=inputs, key=inputs, \n",
    "            attention_mask=causal_mask\n",
    "        )\n",
    "\n",
    "        layernorm_1_output = self.layernorm_1(\n",
    "            inputs + multi_head_1_output\n",
    "        )\n",
    "\n",
    "        multi_head_attention_2_output = self.multi_head_attention_2(\n",
    "            query=multi_head_1_output, value=encoder_outputs, key=encoder_outputs, \n",
    "            attention_mask=padding_mask\n",
    "        )\n",
    "\n",
    "        layernorm_2_output = self.layernorm_2(\n",
    "            layernorm_1_output + multi_head_attention_2_output\n",
    "        )\n",
    "\n",
    "        dense_proj_output = self.dense_proj(\n",
    "            layernorm_2_output\n",
    "        )\n",
    "\n",
    "        layernorm_3_output = self.layernorm_3(\n",
    "            layernorm_2_output + dense_proj_output\n",
    "        )\n",
    "        return layernorm_3_output\n",
    "             \n",
    "    def get_config(self):\n",
    "        config = super().get_config()\n",
    "        config.update({\n",
    "            \"embed_dim\": self.embed_dim,\n",
    "            \"num_heads\": self.num_heads,\n",
    "            \"dense_dim\": self.dense_dim,\n",
    "        })\n",
    "        return config"
   ]
  },
  {
   "cell_type": "markdown",
   "id": "6884aa00-2df9-4f87-8254-cf031a8e7614",
   "metadata": {},
   "source": [
    "### Source sequence (English)"
   ]
  },
  {
   "cell_type": "code",
   "execution_count": 11,
   "id": "c338601e-b8a7-4290-8b2f-ddb9d8e38c01",
   "metadata": {
    "scrolled": true
   },
   "outputs": [],
   "source": [
    "english_input_layer = keras.Input(\n",
    "    shape=(None,), # transformers are shape invariant\n",
    "    dtype=\"int64\", \n",
    "    name=\"english\"\n",
    ")\n",
    "\n",
    "english_embedding = PositionalEmbedding(\n",
    "    sequence_length = sequence_length,\n",
    "    input_dim = vocab_size, \n",
    "    output_dim = embed_dim, \n",
    "    name = 'english_embedding'\n",
    ")(english_input_layer)"
   ]
  },
  {
   "cell_type": "markdown",
   "id": "337b4a85-b8b1-47e7-b625-361dbc36205b",
   "metadata": {},
   "source": [
    "### Target sequence (russian)"
   ]
  },
  {
   "cell_type": "code",
   "execution_count": 12,
   "id": "ed90b8cd-4393-4969-8878-13c46c48d302",
   "metadata": {},
   "outputs": [],
   "source": [
    "russian_input_layer = keras.Input(\n",
    "    shape=(None,), # transformers are shape invariant\n",
    "    dtype=\"int64\", \n",
    "    name = 'russian'\n",
    ")\n",
    "\n",
    "russian_embedding = PositionalEmbedding(\n",
    "    sequence_length = sequence_length,\n",
    "    input_dim = vocab_size, \n",
    "    output_dim = embed_dim, \n",
    "    name = 'russian_embedding'\n",
    ")(russian_input_layer)"
   ]
  },
  {
   "cell_type": "markdown",
   "id": "a28b74c6-92a6-4983-a236-82476e70b19b",
   "metadata": {},
   "source": [
    "### Encoder"
   ]
  },
  {
   "cell_type": "code",
   "execution_count": 13,
   "id": "3be99bd1-be03-4f54-be1e-8ee7694ffaab",
   "metadata": {},
   "outputs": [],
   "source": [
    "encoded_english = TransformerEncoder(\n",
    "    embed_dim = embed_dim,\n",
    "    dense_dim = dense_dim,\n",
    "    num_heads = num_heads,\n",
    "    name = 'encoder'\n",
    ")(english_embedding)"
   ]
  },
  {
   "cell_type": "markdown",
   "id": "dda21e7c-4ed1-460b-b28f-5776007c296d",
   "metadata": {},
   "source": [
    "### Decoder"
   ]
  },
  {
   "cell_type": "code",
   "execution_count": 14,
   "id": "b88c3d1b-9c05-4984-886b-3f6cf5125036",
   "metadata": {},
   "outputs": [],
   "source": [
    "x = TransformerDecoder(\n",
    "    embed_dim=embed_dim,\n",
    "    dense_dim=dense_dim,\n",
    "    num_heads=num_heads\n",
    ")(russian_embedding, encoder_outputs=encoded_english)"
   ]
  },
  {
   "cell_type": "code",
   "execution_count": 15,
   "id": "2f859a79-ae8c-44f8-bdaa-a561c33c6bba",
   "metadata": {},
   "outputs": [],
   "source": [
    "x = layers.Dropout(0.4)(x)\n",
    "output_layer = layers.Dense(vocab_size, activation='softmax', name='output_layer')(x)"
   ]
  },
  {
   "cell_type": "code",
   "execution_count": 16,
   "id": "90615126-feb5-4ea2-becf-e0d0f773ffa0",
   "metadata": {
    "scrolled": true
   },
   "outputs": [
    {
     "name": "stdout",
     "output_type": "stream",
     "text": [
      "Model: \"model\"\n",
      "__________________________________________________________________________________________________\n",
      " Layer (type)                   Output Shape         Param #     Connected to                     \n",
      "==================================================================================================\n",
      " english (InputLayer)           [(None, None)]       0           []                               \n",
      "                                                                                                  \n",
      " russian (InputLayer)           [(None, None)]       0           []                               \n",
      "                                                                                                  \n",
      " english_embedding (PositionalE  (None, None, 256)   6405120     ['english[0][0]']                \n",
      " mbedding)                                                                                        \n",
      "                                                                                                  \n",
      " russian_embedding (PositionalE  (None, None, 256)   6405120     ['russian[0][0]']                \n",
      " mbedding)                                                                                        \n",
      "                                                                                                  \n",
      " encoder (TransformerEncoder)   (None, None, 256)    2630144     ['english_embedding[0][0]']      \n",
      "                                                                                                  \n",
      " transformer_decoder (Transform  (None, None, 256)   4734208     ['russian_embedding[0][0]',      \n",
      " erDecoder)                                                       'encoder[0][0]']                \n",
      "                                                                                                  \n",
      " dropout (Dropout)              (None, None, 256)    0           ['transformer_decoder[0][0]']    \n",
      "                                                                                                  \n",
      " output_layer (Dense)           (None, None, 25000)  6425000     ['dropout[0][0]']                \n",
      "                                                                                                  \n",
      "==================================================================================================\n",
      "Total params: 26,599,592\n",
      "Trainable params: 26,599,592\n",
      "Non-trainable params: 0\n",
      "__________________________________________________________________________________________________\n",
      "None\n"
     ]
    }
   ],
   "source": [
    "seq2seq_transformer = keras.Model(\n",
    "    inputs = [english_input_layer, russian_input_layer],\n",
    "    outputs= output_layer\n",
    ")\n",
    "print(seq2seq_transformer.summary())"
   ]
  },
  {
   "cell_type": "code",
   "execution_count": 17,
   "id": "07ce5a43-7abe-46f4-b82b-a5e1d8f63308",
   "metadata": {},
   "outputs": [
    {
     "data": {
      "image/png": "[encoded data removed]",
      "text/plain": [
       "<IPython.core.display.Image object>"
      ]
     },
     "execution_count": 17,
     "metadata": {},
     "output_type": "execute_result"
    }
   ],
   "source": [
    "keras.utils.plot_model(seq2seq_transformer, show_shapes=True, show_layer_names=True, dpi=70)"
   ]
  },
  {
   "cell_type": "markdown",
   "id": "c75758f9-e8a0-4332-b05d-ea28af823427",
   "metadata": {},
   "source": [
    "## **Model Training**"
   ]
  },
  {
   "cell_type": "code",
   "execution_count": 18,
   "id": "4f3dde36-ad80-45fd-bfb4-855d93514598",
   "metadata": {
    "scrolled": true
   },
   "outputs": [
    {
     "name": "stdout",
     "output_type": "stream",
     "text": [
      "Epoch 1/64\n",
      "2667/2667 [==============================] - 1057s 395ms/step - loss: 0.9090 - accuracy: 0.6003 - val_loss: 0.5379 - val_accuracy: 0.6997\n",
      "Epoch 2/64\n",
      "2667/2667 [==============================] - 1077s 404ms/step - loss: 0.5196 - accuracy: 0.7046 - val_loss: 0.4389 - val_accuracy: 0.7340\n",
      "Epoch 3/64\n",
      "2667/2667 [==============================] - 1080s 405ms/step - loss: 0.4192 - accuracy: 0.7391 - val_loss: 0.4059 - val_accuracy: 0.7480\n",
      "Epoch 4/64\n",
      "2667/2667 [==============================] - 1082s 406ms/step - loss: 0.3663 - accuracy: 0.7601 - val_loss: 0.3914 - val_accuracy: 0.7566\n",
      "Epoch 5/64\n",
      "2667/2667 [==============================] - 1078s 404ms/step - loss: 0.3314 - accuracy: 0.7758 - val_loss: 0.3865 - val_accuracy: 0.7618\n",
      "Epoch 6/64\n",
      "2667/2667 [==============================] - 1076s 403ms/step - loss: 0.3063 - accuracy: 0.7876 - val_loss: 0.3847 - val_accuracy: 0.7652\n",
      "Epoch 7/64\n",
      "2667/2667 [==============================] - 1073s 402ms/step - loss: 0.2865 - accuracy: 0.7973 - val_loss: 0.3840 - val_accuracy: 0.7669\n",
      "Epoch 8/64\n",
      "2667/2667 [==============================] - 1066s 400ms/step - loss: 0.2699 - accuracy: 0.8057 - val_loss: 0.3838 - val_accuracy: 0.7692\n",
      "Epoch 9/64\n",
      "2667/2667 [==============================] - 1090s 409ms/step - loss: 0.2567 - accuracy: 0.8128 - val_loss: 0.3851 - val_accuracy: 0.7701\n",
      "Epoch 10/64\n",
      "2667/2667 [==============================] - 1094s 410ms/step - loss: 0.2450 - accuracy: 0.8189 - val_loss: 0.3883 - val_accuracy: 0.7720\n",
      "Epoch 11/64\n",
      "2667/2667 [==============================] - 1087s 408ms/step - loss: 0.2349 - accuracy: 0.8243 - val_loss: 0.3927 - val_accuracy: 0.7721\n",
      "Epoch 12/64\n",
      "2667/2667 [==============================] - 1087s 408ms/step - loss: 0.2264 - accuracy: 0.8291 - val_loss: 0.3950 - val_accuracy: 0.7735\n",
      "Epoch 13/64\n",
      "2667/2667 [==============================] - 1085s 407ms/step - loss: 0.2188 - accuracy: 0.8335 - val_loss: 0.3931 - val_accuracy: 0.7742\n",
      "Epoch 14/64\n",
      "2667/2667 [==============================] - 1088s 408ms/step - loss: 0.2118 - accuracy: 0.8372 - val_loss: 0.3973 - val_accuracy: 0.7738\n",
      "Epoch 15/64\n",
      "2667/2667 [==============================] - 1071s 401ms/step - loss: 0.2065 - accuracy: 0.8404 - val_loss: 0.4011 - val_accuracy: 0.7749\n",
      "Epoch 16/64\n",
      "2667/2667 [==============================] - 1092s 409ms/step - loss: 0.2012 - accuracy: 0.8437 - val_loss: 0.4056 - val_accuracy: 0.7746\n",
      "Epoch 17/64\n",
      "2667/2667 [==============================] - 1118s 419ms/step - loss: 0.1968 - accuracy: 0.8459 - val_loss: 0.4042 - val_accuracy: 0.7754\n",
      "Epoch 18/64\n",
      "2667/2667 [==============================] - 1088s 408ms/step - loss: 0.1929 - accuracy: 0.8482 - val_loss: 0.4065 - val_accuracy: 0.7747\n",
      "Epoch 19/64\n",
      "2667/2667 [==============================] - 1122s 421ms/step - loss: 0.1890 - accuracy: 0.8506 - val_loss: 0.4121 - val_accuracy: 0.7755\n",
      "Epoch 20/64\n",
      "2667/2667 [==============================] - 1107s 415ms/step - loss: 0.1858 - accuracy: 0.8523 - val_loss: 0.4141 - val_accuracy: 0.7755\n",
      "Epoch 21/64\n",
      "2667/2667 [==============================] - 1080s 405ms/step - loss: 0.1831 - accuracy: 0.8540 - val_loss: 0.4150 - val_accuracy: 0.7756\n",
      "Epoch 22/64\n",
      "2667/2667 [==============================] - 1055s 395ms/step - loss: 0.1807 - accuracy: 0.8555 - val_loss: 0.4177 - val_accuracy: 0.7750\n",
      "Epoch 23/64\n",
      "2667/2667 [==============================] - 1048s 393ms/step - loss: 0.1781 - accuracy: 0.8572 - val_loss: 0.4167 - val_accuracy: 0.7755\n",
      "Epoch 24/64\n",
      "2667/2667 [==============================] - 42661s 16s/step - loss: 0.1761 - accuracy: 0.8583 - val_loss: 0.4194 - val_accuracy: 0.7757\n",
      "Epoch 25/64\n",
      "2667/2667 [==============================] - 1141s 428ms/step - loss: 0.1750 - accuracy: 0.8589 - val_loss: 0.4234 - val_accuracy: 0.7756\n",
      "Epoch 26/64\n",
      "2667/2667 [==============================] - 1578s 592ms/step - loss: 0.1735 - accuracy: 0.8599 - val_loss: 0.4250 - val_accuracy: 0.7742\n",
      "Epoch 27/64\n",
      "2667/2667 [==============================] - 1861s 698ms/step - loss: 0.1720 - accuracy: 0.8607 - val_loss: 0.4255 - val_accuracy: 0.7743\n"
     ]
    },
    {
     "data": {
      "text/plain": [
       "<keras.callbacks.History at 0x16b379663d0>"
      ]
     },
     "execution_count": 18,
     "metadata": {},
     "output_type": "execute_result"
    }
   ],
   "source": [
    "early_stopping = keras.callbacks.EarlyStopping(\n",
    "    monitor='val_accuracy',\n",
    "    patience=3,\n",
    "    restore_best_weights=True,\n",
    ")\n",
    "\n",
    "seq2seq_transformer.compile(\n",
    "    optimizer=optimizers.Adam(),\n",
    "    loss=\"sparse_categorical_crossentropy\",\n",
    "    metrics=[\"accuracy\"] # next token accuracy\n",
    ")\n",
    "\n",
    "seq2seq_transformer.fit(\n",
    "    train_ds, \n",
    "    epochs=64, # may be stopped by EarlyStopping before reaching this number\n",
    "    validation_data=val_ds,\n",
    "    callbacks=[early_stopping]\n",
    ")"
   ]
  },
  {
   "cell_type": "code",
   "execution_count": 19,
   "id": "5bc2a23c-32f0-4c31-8654-2c71dadedf11",
   "metadata": {},
   "outputs": [],
   "source": [
    "keras.models.save_model(seq2seq_transformer,'eng_rus_translate.keras')"
   ]
  },
  {
   "cell_type": "code",
   "execution_count": 20,
   "id": "8db98ac0-1603-4333-b649-1865f6196d48",
   "metadata": {},
   "outputs": [
    {
     "name": "stdout",
     "output_type": "stream",
     "text": [
      "572/572 [==============================] - 106s 185ms/step - loss: 0.4230 - accuracy: 0.7752\n",
      "{'loss': 0.42303743958473206, 'accuracy': 0.7751858830451965}\n"
     ]
    }
   ],
   "source": [
    "print(seq2seq_transformer.evaluate(test_ds, return_dict=True))"
   ]
  },
  {
   "cell_type": "markdown",
   "id": "343bd431-f38e-43b3-aa5e-d1b9f6a30c1f",
   "metadata": {},
   "source": [
    "The 'accuracy' metric refers to predicting the next word in the sequence correctly. "
   ]
  },
  {
   "cell_type": "markdown",
   "id": "8b45d3b7-bb56-4859-ba47-68a8121c4f75",
   "metadata": {},
   "source": [
    "## **Manual Evaluation**\n",
    "Firstly, need a way to see the examples of the sentences being translated. Then, 50 sample will be manually cross-checked with Google Translate and judged for their accuracy. "
   ]
  },
  {
   "cell_type": "code",
   "execution_count": 28,
   "id": "a61ebcc4-a3a6-4f8d-97f6-d3197a5c01bd",
   "metadata": {
    "scrolled": true
   },
   "outputs": [
    {
     "name": "stdout",
     "output_type": "stream",
     "text": [
      "Tom told Mary he needed her help.\n",
      "[start] Том сказал Мэри что ему нужна её помощь [end]\n",
      "\n",
      "Do you like opera?\n",
      "[start] Ты любишь оперу? [end]\n",
      "\n",
      "We adopted a baby.\n",
      "[start] Мы усыновили ребёнка [end]\n",
      "\n",
      "Could you talk a little slower?\n",
      "[start] Ты не могла бы говорить немного помедленнее? [end]\n",
      "\n",
      "I don't think I'll be able to eat all this.\n",
      "[start] Не думаю что смогу это всё съесть [end]\n",
      "\n",
      "The police are going to catch you sooner or later.\n",
      "[start] Полиция рано или поздно тебя поймает [end]\n",
      "\n",
      "Tom was aware that Mary was married.\n",
      "[start] Том был в курсе что Мэри замужем [end]\n",
      "\n",
      "Tom makes about fifty phone calls a day.\n",
      "[start] Том делает пять звонков телефона [end]\n",
      "\n",
      "I don't want to talk about it right now.\n",
      "[start] Я не хочу сейчас об этом говорить [end]\n",
      "\n",
      "Please don't do anything else.\n",
      "[start] Пожалуйста не делай ничего ещё [end]\n",
      "\n",
      "Tom wants to go with us.\n",
      "[start] Том хочет пойти с нами [end]\n",
      "\n",
      "I really don't know what to say.\n",
      "[start] Я правда не знаю что сказать [end]\n",
      "\n",
      "You need me.\n",
      "[start] Я вам нужен [end]\n",
      "\n",
      "Tom likes Mary.\n",
      "[start] Тому нравится Мэри [end]\n",
      "\n",
      "Everyone is scared.\n",
      "[start] Все напуганы [end]\n",
      "\n",
      "It's getting dark.\n",
      "[start] Темнеет [end]\n",
      "\n",
      "We made a huge mistake.\n",
      "[start] Мы совершили огромную ошибку [end]\n",
      "\n",
      "I work better alone than in a group.\n",
      "[start] Я лучше в одиночку скучаю по группе [end]\n",
      "\n",
      "Tom is an excellent cook.\n",
      "[start] Том отличный повар [end]\n",
      "\n",
      "Let's go away.\n",
      "[start] Давай уйдём [end]\n",
      "\n",
      "John took a key from his pocket.\n",
      "[start] Том достал из кармана ключ [end]\n",
      "\n",
      "You must study French.\n",
      "[start] Ты должен учить французский [end]\n",
      "\n",
      "Whenever someone knocks on the door, my dog starts barking.\n",
      "[start] Каждый когда ктонибудь стучит в дверь моя собака начинает лаять [end]\n",
      "\n",
      "There's time.\n",
      "[start] Время есть [end]\n",
      "\n",
      "I don't think you'll have the same problems I had.\n",
      "[start] Не думаю что у тебя будут думать те проблемы что у меня были [end]\n",
      "\n",
      "How many times have you done this?\n",
      "[start] Сколько раз ты это сделал? [end]\n",
      "\n",
      "You may use mine if you want.\n",
      "[start] Можешь взять мой если хочешь [end]\n",
      "\n",
      "She is wearing a white dress today.\n",
      "[start] Она сегодня в белом платье [end]\n",
      "\n",
      "Don't say bad things about others.\n",
      "[start] Не говори о других плохо [end]\n",
      "\n",
      "Who gave you permission to do that?\n",
      "[start] Кто дал тебе разрешение сделать это? [end]\n",
      "\n",
      "I'm not suggesting you go alone.\n",
      "[start] Я не предлагаю тебе ехать одному [end]\n",
      "\n",
      "Why does Tom need a hammer?\n",
      "[start] Зачем Тому молоток? [end]\n",
      "\n",
      "Have you ever been to Japan?\n",
      "[start] Ты когданибудь был в Японии? [end]\n",
      "\n",
      "I had to go there.\n",
      "[start] Мне надо было туда пойти [end]\n",
      "\n",
      "His mother was a singer.\n",
      "[start] Его мать была певицей [end]\n",
      "\n",
      "It is ten degrees below zero now.\n",
      "[start] Сейчас десять градусов ниже нуля [end]\n",
      "\n",
      "I locked myself out.\n",
      "[start] Я запер дверь оставив ключи внутри [end]\n",
      "\n",
      "I couldn't sleep either.\n",
      "[start] Я тоже не мог уснуть [end]\n",
      "\n",
      "We're both students.\n",
      "[start] Мы оба студенты [end]\n",
      "\n",
      "Why did you cry?\n",
      "[start] Почему ты плакал? [end]\n",
      "\n",
      "Tom certainly wasn't ready for it.\n",
      "[start] Том определённо не был к этому готов [end]\n",
      "\n",
      "I can answer your questions.\n",
      "[start] Я могу ответить на твои вопросы [end]\n",
      "\n",
      "He thinks that I am in love with her.\n",
      "[start] Он думает что я люблю её [end]\n",
      "\n",
      "Let me think about it.\n",
      "[start] Дайте мне об этом подумать [end]\n",
      "\n",
      "Didn't you know Tom had a house on Park Street?\n",
      "[start] Ты не знал что у Тома дом на Парковой улице? [end]\n",
      "\n",
      "Tom is a judge.\n",
      "[start] Том Судья [end]\n",
      "\n",
      "Tom told me the whole story.\n",
      "[start] Том рассказал мне всю историю [end]\n",
      "\n",
      "I made up my mind to go there.\n",
      "[start] Я решил пойти туда [end]\n",
      "\n",
      "Tom has no authority to do that.\n",
      "[start] У Тома нет полномочий чтобы это сделать [end]\n",
      "\n",
      "Tom doesn't use Facebook.\n",
      "[start] Том не пользуется Фейсбуком [end]\n",
      "\n"
     ]
    }
   ],
   "source": [
    "def decode_sequence(\n",
    "    input_sentence, \n",
    "    max_decoded_sentence_length = sequence_length\n",
    "):\n",
    "    tokenized_input_sentence = eng_vectorization([input_sentence])\n",
    "    decoded_sentence = \"[start]\"\n",
    "    \n",
    "    for i in range(max_decoded_sentence_length):\n",
    "        tokenized_target_sentence = rus_vectorization([decoded_sentence])\n",
    "        \n",
    "        predicted_next_token = seq2seq_transformer.predict(\n",
    "            [tokenized_input_sentence, tokenized_target_sentence[:,:-1]], \n",
    "            verbose=0\n",
    "        )\n",
    "        \n",
    "        sampled_token_index = np.argmax(predicted_next_token[0, i, :])\n",
    "        sampled_token = rus_index_lookup[sampled_token_index]\n",
    "        decoded_sentence += \" \" + sampled_token\n",
    "        if sampled_token == \"[end]\":\n",
    "            break\n",
    "    return decoded_sentence\n",
    "\n",
    "random.seed(0)\n",
    "with open(\"translation_output.txt\", \"w\") as file:\n",
    "    for _ in range(50):\n",
    "        decoded_sentence = \"[UNK]\"\n",
    "        # continue fetching and decoding until a sentence without [UNK] is decoded\n",
    "        while \"[UNK]\" in decoded_sentence:\n",
    "            random_english_sentence_index = random.randint(0, num_val_samples - 1)\n",
    "            input_sentence = test_pairs[random_english_sentence_index][0]\n",
    "            decoded_sentence = decode_sequence(input_sentence)\n",
    "        file.write(f\"Original: {input_sentence}\\n\")\n",
    "        file.write(f\"Decoded: {decoded_sentence}\\n\\n\")\n",
    "        print(input_sentence)\n",
    "        print(decoded_sentence)\n",
    "        print()"
   ]
  },
  {
   "cell_type": "markdown",
   "id": "d545045a-0afb-4a94-ad9f-c4e66677e62d",
   "metadata": {},
   "source": [
    "#### 48* of 50 correct!\n",
    "_Translations with minor grammatical errors counted as correct if the meaning was preserved._\n",
    "\n",
    "The two incorrectly translated sentences were:\n",
    "* \"John took a key from his pocket\" to **\"Том достал из кармана ключ\"**\n",
    "    * \"John\" was incorrectly translated as \"Tom,\" because \"Tom\" is a frequently used name in the training data.\n",
    "* \"Tom makes about fifty phone calls a day.\" to **\"Том делает пять звонков телефона\"**\n",
    "    * Missing \"about\" and \"a day,\" and used the wrong case for \"телефона.\"\n",
    " \n",
    "Minor errors in tense, gender, or case also occurred, probably due to the training data not being comprehensive enough to capture contextual nuances of grammatical forms.\n",
    "\n",
    "To enhance translation quality in future similar projects, it's crucial to use a more diverse training dataset covering various language styles and contexts. Additionally, increasing computational capabilities, such as expanding embedding dimensions and adding more attention heads, will help the model better manage complex language structures. These upgrades will improve the model's grammatical accuracy and overall translation quality."
   ]
  }
 ],
 "metadata": {
  "kernelspec": {
   "display_name": "Python 3 (ipykernel)",
   "language": "python",
   "name": "python3"
  },
  "language_info": {
   "codemirror_mode": {
    "name": "ipython",
    "version": 3
   },
   "file_extension": ".py",
   "mimetype": "text/x-python",
   "name": "python",
   "nbconvert_exporter": "python",
   "pygments_lexer": "ipython3",
   "version": "3.9.19"
  }
 },
 "nbformat": 4,
 "nbformat_minor": 5
}
