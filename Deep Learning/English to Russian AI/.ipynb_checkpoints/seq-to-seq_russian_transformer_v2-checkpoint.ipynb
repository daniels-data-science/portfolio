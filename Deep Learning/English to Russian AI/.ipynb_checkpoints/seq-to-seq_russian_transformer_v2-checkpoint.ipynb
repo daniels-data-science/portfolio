{
 "cells": [
  {
   "cell_type": "markdown",
   "id": "e44fd5a6-3d46-41ee-a74e-29132d6458f4",
   "metadata": {
    "tags": []
   },
   "source": [
    "# **Transformer-based English to Russian AI**"
   ]
  },
  {
   "cell_type": "code",
   "execution_count": 1,
   "id": "c188065f-2a60-45ad-9f0f-e62487c04278",
   "metadata": {},
   "outputs": [
    {
     "name": "stdout",
     "output_type": "stream",
     "text": [
      "2.10.0 [PhysicalDevice(name='/physical_device:GPU:0', device_type='GPU')]\n"
     ]
    }
   ],
   "source": [
    "import numpy as np \n",
    "import matplotlib.pyplot as plt\n",
    "import seaborn as sns\n",
    "import os\n",
    "import re\n",
    "import warnings\n",
    "import random\n",
    "\n",
    "import tensorflow as tf\n",
    "print(\n",
    "    tf.__version__, \n",
    "    tf.config.list_physical_devices('GPU') # GPU required for this task\n",
    ")\n",
    "from tensorflow import keras\n",
    "from tensorflow.keras import layers, optimizers"
   ]
  },
  {
   "cell_type": "markdown",
   "id": "ebd57255-ba9f-4183-be39-108f6b27f901",
   "metadata": {},
   "source": [
    "We will be using a text file provided by [Anki's Russian-English biligual sentence pairs](http://www.manythings.org/anki/) for this project. \n"
   ]
  },
  {
   "cell_type": "markdown",
   "id": "a0796632-9ae8-4997-879d-cb42bfdf119d",
   "metadata": {},
   "source": [
    "## **Data Preprocessings**\n",
    "#### 1. Add `\"[start]\"` and `\"[end]\"` tokens to the Russian text"
   ]
  },
  {
   "cell_type": "code",
   "execution_count": 2,
   "id": "06e20447-ca23-49c2-af83-dd33a0d01ae3",
   "metadata": {},
   "outputs": [],
   "source": [
    "bilingual_file_dir = \"rus.txt\"\n",
    "# this is a csv file containing English in the first column and Russian in the second\n",
    "\n",
    "with open(bilingual_file_dir, encoding='utf-8') as f: \n",
    "    lines = f.read().split(\"\\n\")\n",
    "text_pairs = []        \n",
    "for line in lines:\n",
    "    english, russian, _ = line.split(\"\\t\")\n",
    "    russian = \"[start] \" + russian + \" [end]\"\n",
    "    text_pairs.append((english, russian))"
   ]
  },
  {
   "cell_type": "markdown",
   "id": "cbf05867-7b8a-4346-8b69-3d0fa6399286",
   "metadata": {},
   "source": [
    "#### 2. Split the paired data into train/val/test groups"
   ]
  },
  {
   "cell_type": "code",
   "execution_count": null,
   "id": "0952c28b-d888-4138-815e-ae09d26c085b",
   "metadata": {},
   "outputs": [],
   "source": [
    "print(len(text_pairs))\n",
    "random.shuffle(text_pairs)\n",
    "num_val_samples = int(0.15 * len(text_pairs))\n",
    "num_train_samples = len(text_pairs) - 2 * num_val_samples\n",
    "train_pairs = text_pairs[:num_train_samples]\n",
    "val_pairs = text_pairs[num_train_samples:num_train_samples + num_val_samples]\n",
    "test_pairs = text_pairs[num_train_samples + num_val_samples:]"
   ]
  },
  {
   "cell_type": "markdown",
   "id": "3f78ebd6-f575-4c32-baf5-ec0b9ca5d297",
   "metadata": {},
   "source": [
    "#### 3. Set tokenisation parameters\n",
    "* `vocab_size`: the top *n* most frequent tokens in the training texts for both languages."
   ]
  },
  {
   "cell_type": "code",
   "execution_count": null,
   "id": "a1d36335-152d-40bd-8872-995a7829c123",
   "metadata": {},
   "outputs": [],
   "source": [
    "vocab_size = 15_000"
   ]
  },
  {
   "cell_type": "markdown",
   "id": "7e6282de-e252-43de-b544-b50f6bd94201",
   "metadata": {},
   "source": [
    "* `sequence_length`: both english and russian sentences do not exceed this many words. Words after this cap will be cut off."
   ]
  },
  {
   "cell_type": "code",
   "execution_count": 4,
   "id": "9e681090-0e5e-4c84-ae78-6e5e3a4657f3",
   "metadata": {},
   "outputs": [],
   "source": [
    "sequence_length = 12"
   ]
  },
  {
   "cell_type": "markdown",
   "id": "ea155d41-4e8e-4915-8806-ac517ef64f39",
   "metadata": {},
   "source": [
    "* `embed_dim`: Each embedded token is a vector of this length."
   ]
  },
  {
   "cell_type": "code",
   "execution_count": null,
   "id": "ae2aa4cb-ad3f-4e79-90e7-c74e8beeb1a7",
   "metadata": {},
   "outputs": [],
   "source": [
    "embed_dim = 256"
   ]
  },
  {
   "cell_type": "markdown",
   "id": "44a640d3-b57b-4e5c-8edd-0d56761218c0",
   "metadata": {},
   "source": [
    "#### 4. Standardise sentences"
   ]
  },
  {
   "cell_type": "code",
   "execution_count": null,
   "id": "e6afd986-b5a6-4a2c-bee0-f71a71b72968",
   "metadata": {},
   "outputs": [],
   "source": [
    "def standardize(string):\n",
    "    strip_chars = '\"#$%&\\'()*+,-./:;<=>@\\\\^_`{|}~—'\n",
    "    \n",
    "    string = tf.strings.lower(string)\n",
    "    \n",
    "    string = tf.strings.regex_replace(string, f\"[{re.escape(strip_chars)}]\", \"\")\n",
    "    # Remove characters in strip_chars using regular expression\n",
    "    return string"
   ]
  },
  {
   "cell_type": "markdown",
   "id": "8e711a46-1b38-426f-bfd5-50ab280a7fec",
   "metadata": {},
   "source": [
    "#### 5. Index each word to build a vocabulary"
   ]
  },
  {
   "cell_type": "code",
   "execution_count": 5,
   "id": "2bf44584-14a7-4bff-87a6-b18bce4e90af",
   "metadata": {},
   "outputs": [],
   "source": [
    "eng_vectorization = layers.TextVectorization(\n",
    "    max_tokens=vocab_size,\n",
    "    output_mode=\"int\",\n",
    "    output_sequence_length=sequence_length,\n",
    "    standardize=standardize\n",
    ")\n",
    "rus_vectorization = layers.TextVectorization(\n",
    "    max_tokens=vocab_size,\n",
    "    output_mode=\"int\",\n",
    "    output_sequence_length=sequence_length + 1, # needs to be one step ahead\n",
    "    standardize=standardize\n",
    ")\n",
    "\n",
    "train_english_texts = [pair[0] for pair in train_pairs]\n",
    "train_russian_texts = [pair[1] for pair in train_pairs]\n",
    "\n",
    "# the .adapt() method builds the vocabulary from input data\n",
    "eng_vectorization.adapt(train_english_texts)\n",
    "rus_vectorization.adapt(train_russian_texts)"
   ]
  },
  {
   "cell_type": "code",
   "execution_count": 6,
   "id": "9be256b3-20fd-4fcc-8fd8-22d0dfd0934e",
   "metadata": {
    "scrolled": true
   },
   "outputs": [],
   "source": [
    "batch_size = 256 \n",
    "\n",
    "def format_dataset(eng, rus):\n",
    "    eng = eng_vectorization(eng)\n",
    "    rus = rus_vectorization(rus)\n",
    "    return (\n",
    "        {\"english\": eng, \"russian\": rus[:, :-1]}, \n",
    "        # these dict keys will also be the model's Input layers' names\n",
    "        rus[:, 1:]\n",
    "    )\n",
    "    # returns a tuple that will be the model's two inputs\n",
    "\n",
    "def make_dataset(pairs):\n",
    "    eng_texts, rus_texts = zip(*pairs)\n",
    "    eng_texts = list(eng_texts)\n",
    "    rus_texts = list(rus_texts)\n",
    "    \n",
    "    dataset = tf.data.Dataset.from_tensor_slices((eng_texts, rus_texts))\n",
    "    # # Slicing a tuple of 1D tensors produces tuple elements containing scalar tensors.\n",
    "\n",
    "    dataset = dataset.batch(batch_size)\n",
    "    \n",
    "    dataset = dataset.map(format_dataset, num_parallel_calls=8)\n",
    "    \n",
    "    dataset = dataset.shuffle(2048).prefetch(16).cache()\n",
    "    # uses in-memory caching to speed up preprocessing.\n",
    "    return dataset\n",
    "\n",
    "train_ds = make_dataset(train_pairs)\n",
    "val_ds = make_dataset(val_pairs)\n",
    "test_ds = make_dataset(test_pairs)"
   ]
  },
  {
   "cell_type": "markdown",
   "id": "06a5ccdd-3ce4-48d9-9969-7c7980d369fc",
   "metadata": {},
   "source": [
    "## **Architecture**\n",
    "\n",
    "The transformer will be based on [Vaswani et al.'s \"*Attention Is All You Need*\"](https://arxiv.org/abs/1706.03762).\n",
    "\n",
    "![Vaswini et. al](https://www.researchgate.net/publication/339390384/figure/fig1/AS:860759328321536@1582232424168/The-transformer-model-from-Attention-is-all-you-need-Viswani-et-al.jpg)"
   ]
  },
  {
   "cell_type": "code",
   "execution_count": null,
   "id": "0206ffe4-e8d4-452f-a112-7f7348133d89",
   "metadata": {},
   "outputs": [],
   "source": [
    "dense_dim = 1024\n",
    "num_heads = 8"
   ]
  },
  {
   "cell_type": "code",
   "execution_count": 7,
   "id": "7b9ffe17-469e-4c8c-988c-ddb4dfdefdff",
   "metadata": {},
   "outputs": [],
   "source": [
    "class PositionalEmbedding(layers.Layer):\n",
    "    def __init__(self, sequence_length, input_dim, output_dim, **kwargs):\n",
    "        super().__init__(**kwargs)\n",
    "        self.token_embeddings = layers.Embedding(\n",
    "            input_dim=input_dim, output_dim=output_dim\n",
    "        )\n",
    "        self.position_embeddings = layers.Embedding(\n",
    "            input_dim=sequence_length, output_dim=output_dim\n",
    "        )\n",
    "        self.sequence_length = sequence_length\n",
    "        self.input_dim = input_dim\n",
    "        self.output_dim = output_dim\n",
    "\n",
    "    def compute_mask(self, inputs, mask=None):\n",
    "        return tf.math.not_equal(inputs, 0) # does not work on latest tf\n",
    "    \n",
    "    def call(self, inputs):\n",
    "        length = tf.shape(inputs)[-1]\n",
    "        positions = tf.range(start=0, limit=length, delta=1)\n",
    "        \n",
    "        embedded_tokens = self.token_embeddings(inputs) \n",
    "        embedded_positions = self.position_embeddings(positions)\n",
    "\n",
    "        embeddeding = embedded_tokens + embedded_positions\n",
    "        # combines position information with token representation\n",
    "        \n",
    "        return embeddeding  \n",
    "\n",
    "    def get_config(self):\n",
    "        config = super().get_config()\n",
    "        config.update({\n",
    "            'output_dim':self.output_dim,\n",
    "            'sequence_length':self.sequence_length,\n",
    "            'input_dim':self.input_dim,\n",
    "        })\n",
    "        return config"
   ]
  },
  {
   "cell_type": "code",
   "execution_count": 8,
   "id": "98616bae-516b-4f5d-9ca6-3a3a11efc0f8",
   "metadata": {},
   "outputs": [],
   "source": [
    "class TransformerEncoder(layers.Layer):\n",
    "    def __init__(self, embed_dim, dense_dim, num_heads, **kwargs):\n",
    "        super().__init__(**kwargs)\n",
    "        self.embed_dim = embed_dim # size of token vectors, also the key_dim\n",
    "        self.dense_dim = dense_dim\n",
    "        self.num_heads = num_heads\n",
    "\n",
    "        self.multi_head_attention = layers.MultiHeadAttention(\n",
    "        # for every attention head:\n",
    "            # Q, K and V all have independent dense connections\n",
    "            # Then, the dense projection's are inputted into attention\n",
    "        # attention outputs of each head are concatenated together\n",
    "            num_heads=num_heads,\n",
    "            key_dim=embed_dim\n",
    "        )\n",
    "        \n",
    "        self.layernorm_1 = layers.LayerNormalization()\n",
    "        \n",
    "        self.dense_proj = keras.Sequential([\n",
    "            layers.Dense(dense_dim, activation='relu'),\n",
    "            layers.Dense(embed_dim)\n",
    "        ])\n",
    "        \n",
    "        self.layernorm_2 = layers.LayerNormalization()\n",
    "        \n",
    "    def call(self, inputs, mask=None):\n",
    "        if mask is not None:\n",
    "            mask = mask[:, tf.newaxis, :]\n",
    "        attention_output = self.multi_head_attention(\n",
    "            inputs, inputs, attention_mask=mask\n",
    "        )\n",
    "        before_fc = self.layernorm_1(inputs + attention_output)\n",
    "        after_fc  = self.dense_proj(before_fc)\n",
    "\n",
    "        final_output = self.layernorm_2(before_fc + after_fc)\n",
    "\n",
    "        return final_output\n",
    "    \n",
    "    def get_config(self):\n",
    "        config = super().get_config()\n",
    "        config.update({\n",
    "            \"embed_dim\": self.embed_dim,\n",
    "            \"num_heads\": self.num_heads,\n",
    "            \"dense_dim\": self.dense_dim,\n",
    "        })\n",
    "        return config  \n",
    "\n",
    "class TransformerDecoder(layers.Layer):\n",
    "    def __init__(self, embed_dim, dense_dim, num_heads, **kwargs):\n",
    "        super().__init__(**kwargs)\n",
    "        self.embed_dim = embed_dim\n",
    "        self.dense_dim = dense_dim\n",
    "        self.num_heads = num_heads\n",
    "\n",
    "        self.supports_masking = True\n",
    "        \n",
    "        self.multi_head_attention_1 = layers.MultiHeadAttention(\n",
    "            num_heads=num_heads, key_dim=embed_dim\n",
    "        )\n",
    "\n",
    "        self.layernorm_1 = layers.LayerNormalization()\n",
    "        \n",
    "        self.multi_head_attention_2 = layers.MultiHeadAttention(\n",
    "            num_heads=num_heads, key_dim=embed_dim\n",
    "        )\n",
    "\n",
    "        self.layernorm_2 = layers.LayerNormalization()\n",
    "\n",
    "        self.dense_proj  = keras.Sequential([\n",
    "            layers.Dense(self.dense_dim, activation='relu'),\n",
    "            layers.Dense(self.embed_dim)\n",
    "        ])\n",
    "\n",
    "        self.layernorm_3 = layers.LayerNormalization()\n",
    "\n",
    "    def get_causal_attention_mask(self, inputs): # necessary to prevent information leakage from future timesteps\n",
    "        input_shape = tf.shape(inputs)\n",
    "        batch_size, sequence_length = input_shape[0], input_shape[1]\n",
    "        \n",
    "        mask = tf.linalg.band_part( # returns lower triangle\n",
    "            tf.ones((sequence_length,sequence_length)), -1, 0\n",
    "        )\n",
    "        mask = tf.cast(mask, 'int32')\n",
    "        \n",
    "        mask = tf.tile( # Replicate 100 times along the new axis\n",
    "            mask[tf.newaxis, :, :], \n",
    "            \n",
    "            [batch_size, 1, 1] \n",
    "        )\n",
    "        return mask \n",
    "        # mask has shape: (batch_size, sequence_length, sequence_length)\n",
    "        \n",
    "    def call(self, inputs, encoder_outputs, mask=None):\n",
    "        causal_mask = self.get_causal_attention_mask(inputs)\n",
    "        if mask is not None:\n",
    "            padding_mask = tf.cast(\n",
    "                mask[:,tf.newaxis,:], dtype='int32'\n",
    "            )\n",
    "            padding_mask = tf.minimum(padding_mask, causal_mask)\n",
    "            \n",
    "        multi_head_1_output = self.multi_head_attention_1(\n",
    "            query=inputs, value=inputs, key=inputs, \n",
    "            attention_mask=causal_mask\n",
    "        )\n",
    "\n",
    "        layernorm_1_output = self.layernorm_1(\n",
    "            inputs + multi_head_1_output\n",
    "        )\n",
    "\n",
    "        multi_head_attention_2_output = self.multi_head_attention_2(\n",
    "            query=multi_head_1_output, value=encoder_outputs, key=encoder_outputs, \n",
    "            attention_mask=padding_mask\n",
    "        )\n",
    "\n",
    "        layernorm_2_output = self.layernorm_2(\n",
    "            layernorm_1_output + multi_head_attention_2_output\n",
    "        )\n",
    "\n",
    "        dense_proj_output = self.dense_proj(\n",
    "            layernorm_2_output\n",
    "        )\n",
    "\n",
    "        layernorm_3_output = self.layernorm_3(\n",
    "            layernorm_2_output + dense_proj_output\n",
    "        )\n",
    "        return layernorm_3_output\n",
    "             \n",
    "    def get_config(self):\n",
    "        config = super().get_config()\n",
    "        config.update({\n",
    "            \"embed_dim\": self.embed_dim,\n",
    "            \"num_heads\": self.num_heads,\n",
    "            \"dense_dim\": self.dense_dim,\n",
    "        })\n",
    "        return config"
   ]
  },
  {
   "cell_type": "markdown",
   "id": "6884aa00-2df9-4f87-8254-cf031a8e7614",
   "metadata": {},
   "source": [
    "### Source sequence (English)"
   ]
  },
  {
   "cell_type": "code",
   "execution_count": 9,
   "id": "c338601e-b8a7-4290-8b2f-ddb9d8e38c01",
   "metadata": {
    "scrolled": true
   },
   "outputs": [],
   "source": [
    "english_input_layer = keras.Input(\n",
    "    shape=(None,), # transformers are shape invariant\n",
    "    dtype=\"int64\", \n",
    "    name=\"english\"\n",
    ")\n",
    "\n",
    "english_embedding = PositionalEmbedding(\n",
    "    sequence_length = sequence_length,\n",
    "    input_dim = vocab_size, \n",
    "    output_dim = embed_dim, \n",
    "    name = 'english_embedding'\n",
    ")(english_input_layer)"
   ]
  },
  {
   "cell_type": "markdown",
   "id": "337b4a85-b8b1-47e7-b625-361dbc36205b",
   "metadata": {},
   "source": [
    "### Target sequence (russian)"
   ]
  },
  {
   "cell_type": "code",
   "execution_count": 10,
   "id": "ed90b8cd-4393-4969-8878-13c46c48d302",
   "metadata": {},
   "outputs": [],
   "source": [
    "russian_input_layer = keras.Input(\n",
    "    shape=(None,), # transformers are shape invariant\n",
    "    dtype=\"int64\", \n",
    "    name = 'russian'\n",
    ")\n",
    "\n",
    "russian_embedding = PositionalEmbedding(\n",
    "    sequence_length = sequence_length,\n",
    "    input_dim = vocab_size, \n",
    "    output_dim = embed_dim, \n",
    "    name = 'russian_embedding'\n",
    ")(russian_input_layer)"
   ]
  },
  {
   "cell_type": "markdown",
   "id": "a28b74c6-92a6-4983-a236-82476e70b19b",
   "metadata": {},
   "source": [
    "### Encoder"
   ]
  },
  {
   "cell_type": "code",
   "execution_count": 11,
   "id": "3be99bd1-be03-4f54-be1e-8ee7694ffaab",
   "metadata": {},
   "outputs": [],
   "source": [
    "encoded_english = TransformerEncoder(\n",
    "    embed_dim = embed_dim,\n",
    "    dense_dim = dense_dim,\n",
    "    num_heads = num_heads,\n",
    "    name = 'encoder'\n",
    ")(english_embedding)"
   ]
  },
  {
   "cell_type": "markdown",
   "id": "dda21e7c-4ed1-460b-b28f-5776007c296d",
   "metadata": {},
   "source": [
    "### Decoder"
   ]
  },
  {
   "cell_type": "code",
   "execution_count": 12,
   "id": "b88c3d1b-9c05-4984-886b-3f6cf5125036",
   "metadata": {},
   "outputs": [],
   "source": [
    "x = TransformerDecoder(\n",
    "    embed_dim=embed_dim,\n",
    "    dense_dim=dense_dim,\n",
    "    num_heads=num_heads\n",
    ")(russian_embedding, encoder_outputs=encoded_english)"
   ]
  },
  {
   "cell_type": "code",
   "execution_count": 13,
   "id": "2f859a79-ae8c-44f8-bdaa-a561c33c6bba",
   "metadata": {},
   "outputs": [],
   "source": [
    "x = layers.Dropout(0.4)(x)\n",
    "output_layer = layers.Dense(vocab_size, activation='softmax', name='output_layer')(x)"
   ]
  },
  {
   "cell_type": "code",
   "execution_count": 14,
   "id": "90615126-feb5-4ea2-becf-e0d0f773ffa0",
   "metadata": {},
   "outputs": [
    {
     "name": "stdout",
     "output_type": "stream",
     "text": [
      "Model: \"model\"\n",
      "__________________________________________________________________________________________________\n",
      " Layer (type)                   Output Shape         Param #     Connected to                     \n",
      "==================================================================================================\n",
      " english (InputLayer)           [(None, None)]       0           []                               \n",
      "                                                                                                  \n",
      " russian (InputLayer)           [(None, None)]       0           []                               \n",
      "                                                                                                  \n",
      " english_embedding (PositionalE  (None, None, 256)   3843072     ['english[0][0]']                \n",
      " mbedding)                                                                                        \n",
      "                                                                                                  \n",
      " russian_embedding (PositionalE  (None, None, 256)   3843072     ['russian[0][0]']                \n",
      " mbedding)                                                                                        \n",
      "                                                                                                  \n",
      " encoder (TransformerEncoder)   (None, None, 256)    2630144     ['english_embedding[0][0]']      \n",
      "                                                                                                  \n",
      " transformer_decoder (Transform  (None, None, 256)   4734208     ['russian_embedding[0][0]',      \n",
      " erDecoder)                                                       'encoder[0][0]']                \n",
      "                                                                                                  \n",
      " dropout (Dropout)              (None, None, 256)    0           ['transformer_decoder[0][0]']    \n",
      "                                                                                                  \n",
      " output_layer (Dense)           (None, None, 15000)  3855000     ['dropout[0][0]']                \n",
      "                                                                                                  \n",
      "==================================================================================================\n",
      "Total params: 18,905,496\n",
      "Trainable params: 18,905,496\n",
      "Non-trainable params: 0\n",
      "__________________________________________________________________________________________________\n",
      "None\n"
     ]
    },
    {
     "data": {
      "image/png": "[encoded data removed]",
      "text/plain": [
       "<IPython.core.display.Image object>"
      ]
     },
     "execution_count": 14,
     "metadata": {},
     "output_type": "execute_result"
    }
   ],
   "source": [
    "seq2seq_transformer = keras.Model(\n",
    "    inputs = [english_input_layer, russian_input_layer],\n",
    "    outputs= output_layer\n",
    ")\n",
    "\n",
    "print(seq2seq_transformer.summary())\n",
    "\n",
    "keras.utils.plot_model(\n",
    "    seq2seq_transformer, show_shapes=True, show_layer_names=True, dpi=80\n",
    ")"
   ]
  },
  {
   "cell_type": "markdown",
   "id": "c75758f9-e8a0-4332-b05d-ea28af823427",
   "metadata": {},
   "source": [
    "## **Model Training**"
   ]
  },
  {
   "cell_type": "code",
   "execution_count": 15,
   "id": "736cca24-8ecd-4263-ab66-83e99c4f0fec",
   "metadata": {
    "scrolled": true
   },
   "outputs": [
    {
     "name": "stdout",
     "output_type": "stream",
     "text": [
      "Epoch 1/32\n",
      "1334/1334 [==============================] - 263s 193ms/step - loss: 1.4683 - accuracy: 0.5992 - val_loss: 0.8345 - val_accuracy: 0.7043\n",
      "Epoch 2/32\n",
      "1334/1334 [==============================] - 459s 344ms/step - loss: 0.7909 - accuracy: 0.7113 - val_loss: 0.6691 - val_accuracy: 0.7419\n",
      "Epoch 3/32\n",
      "1334/1334 [==============================] - 480s 360ms/step - loss: 0.6451 - accuracy: 0.7457 - val_loss: 0.6188 - val_accuracy: 0.7561\n",
      "Epoch 4/32\n",
      "1334/1334 [==============================] - 492s 369ms/step - loss: 0.5703 - accuracy: 0.7658 - val_loss: 0.5996 - val_accuracy: 0.7632\n",
      "Epoch 5/32\n",
      "1334/1334 [==============================] - 507s 380ms/step - loss: 0.5190 - accuracy: 0.7807 - val_loss: 0.5858 - val_accuracy: 0.7687\n",
      "Epoch 6/32\n",
      "1334/1334 [==============================] - 493s 370ms/step - loss: 0.4815 - accuracy: 0.7919 - val_loss: 0.5852 - val_accuracy: 0.7712\n",
      "Epoch 7/32\n",
      "1334/1334 [==============================] - 496s 372ms/step - loss: 0.4515 - accuracy: 0.8011 - val_loss: 0.5849 - val_accuracy: 0.7729\n",
      "Epoch 8/32\n",
      "1334/1334 [==============================] - 493s 369ms/step - loss: 0.4255 - accuracy: 0.8095 - val_loss: 0.5827 - val_accuracy: 0.7759\n",
      "Epoch 9/32\n",
      "1334/1334 [==============================] - 495s 371ms/step - loss: 0.4036 - accuracy: 0.8166 - val_loss: 0.5823 - val_accuracy: 0.7763\n",
      "Epoch 10/32\n",
      "1334/1334 [==============================] - 492s 369ms/step - loss: 0.3845 - accuracy: 0.8229 - val_loss: 0.5857 - val_accuracy: 0.7781\n",
      "Epoch 11/32\n",
      "1334/1334 [==============================] - 494s 370ms/step - loss: 0.3685 - accuracy: 0.8282 - val_loss: 0.5899 - val_accuracy: 0.7781\n",
      "Epoch 12/32\n",
      "1334/1334 [==============================] - 516s 387ms/step - loss: 0.3526 - accuracy: 0.8335 - val_loss: 0.5926 - val_accuracy: 0.7792\n",
      "Epoch 13/32\n",
      "1334/1334 [==============================] - 598s 448ms/step - loss: 0.3394 - accuracy: 0.8384 - val_loss: 0.5974 - val_accuracy: 0.7800\n",
      "Epoch 14/32\n",
      "1334/1334 [==============================] - 574s 431ms/step - loss: 0.3272 - accuracy: 0.8426 - val_loss: 0.6089 - val_accuracy: 0.7798\n",
      "Epoch 15/32\n",
      "1334/1334 [==============================] - 495s 371ms/step - loss: 0.3164 - accuracy: 0.8466 - val_loss: 0.6138 - val_accuracy: 0.7791\n",
      "Epoch 16/32\n",
      "1334/1334 [==============================] - 494s 370ms/step - loss: 0.3063 - accuracy: 0.8502 - val_loss: 0.6163 - val_accuracy: 0.7800\n"
     ]
    },
    {
     "data": {
      "text/plain": [
       "<keras.callbacks.History at 0x21e53414730>"
      ]
     },
     "execution_count": 15,
     "metadata": {},
     "output_type": "execute_result"
    }
   ],
   "source": [
    "early_stopping = keras.callbacks.EarlyStopping(\n",
    "    monitor='val_accuracy',\n",
    "    patience=3,\n",
    "    restore_best_weights=True,\n",
    ")\n",
    "\n",
    "seq2seq_transformer.compile(\n",
    "    optimizer=optimizers.Adam(),\n",
    "    loss=\"sparse_categorical_crossentropy\",\n",
    "    metrics=[\"accuracy\"] # next token accuracy\n",
    ")\n",
    "\n",
    "seq2seq_transformer.fit(\n",
    "    train_ds, \n",
    "    epochs=32, \n",
    "    validation_data=val_ds,\n",
    "    callbacks=[early_stopping]\n",
    ")"
   ]
  },
  {
   "cell_type": "markdown",
   "id": "8b45d3b7-bb56-4859-ba47-68a8121c4f75",
   "metadata": {},
   "source": [
    "## **Evaluation**"
   ]
  },
  {
   "cell_type": "code",
   "execution_count": 16,
   "id": "8db98ac0-1603-4333-b649-1865f6196d48",
   "metadata": {},
   "outputs": [
    {
     "name": "stdout",
     "output_type": "stream",
     "text": [
      "286/286 [==============================] - 46s 160ms/step - loss: 0.5930 - accuracy: 0.7815\n",
      "{'loss': 0.5929856300354004, 'accuracy': 0.7814801335334778}\n"
     ]
    }
   ],
   "source": [
    "print(seq2seq_transformer.evaluate(test_ds, return_dict=True))"
   ]
  },
  {
   "cell_type": "markdown",
   "id": "61e97fa4-4f34-45f1-b6af-bf533fa57a37",
   "metadata": {},
   "source": [
    "### Examples of translations:"
   ]
  },
  {
   "cell_type": "code",
   "execution_count": 19,
   "id": "a61ebcc4-a3a6-4f8d-97f6-d3197a5c01bd",
   "metadata": {
    "scrolled": true
   },
   "outputs": [
    {
     "name": "stdout",
     "output_type": "stream",
     "text": [
      "The dogs seem happy.\n",
      "[start] Собаки кажется счастливы [end]\n",
      "\n",
      "Tom spent three decades in prison for a crime he didn't commit.\n",
      "[start] Том потратил в тюрьме три года [UNK] в невиновности [end]\n",
      "\n",
      "It's not that small.\n",
      "[start] Это не так уж и маленький [end]\n",
      "\n",
      "I hope you don't miss your flight.\n",
      "[start] Надеюсь ты не опоздаешь на самолёт [end]\n",
      "\n",
      "The door is closing.\n",
      "[start] Дверь закрывается [end]\n",
      "\n",
      "Was it a lie when you said you loved me?\n",
      "[start] Это было [UNK] когда ты сказал мне [UNK] [end]\n",
      "\n",
      "Do you know how to tie a tie?\n",
      "[start] Вы умеете завязывать [UNK] [end]\n",
      "\n",
      "Your pencils need to be sharpened.\n",
      "[start] Твои карандаши нужно [UNK] [end]\n",
      "\n",
      "Tom remained in Boston for a few days.\n",
      "[start] Том остался в Бостоне на несколько дней [end]\n",
      "\n",
      "I thought you'd seen this movie.\n",
      "[start] Я думал ты видел этот фильм [end]\n",
      "\n",
      "I feel like someone is watching me.\n",
      "[start] Я чувствую что за мной ктото наблюдает [end]\n",
      "\n",
      "It was incredibly dangerous.\n",
      "[start] Это было невероятно опасно [end]\n",
      "\n",
      "I told Tom that I'd made a mistake.\n",
      "[start] Я сказал Тому что сделал ошибку [end]\n",
      "\n",
      "Tom used to drive a bus.\n",
      "[start] Том раньше сидел за водителем автобуса [end]\n",
      "\n",
      "Tom didn't work alone.\n",
      "[start] Том не работал один [end]\n",
      "\n",
      "Doing that is a waste of your time.\n",
      "[start] Это [UNK] это трата времени вашего времени [end]\n",
      "\n",
      "I thought that Tom and Mary were already married.\n",
      "[start] Я думал Том с Мэри уже женаты [end]\n",
      "\n",
      "The Rhine flows between France and Germany.\n",
      "[start] [UNK] течёт между [UNK] и [UNK] [end]\n",
      "\n",
      "What's your favorite sport to watch?\n",
      "[start] Какие у тебя любимый вид спорта [UNK] [end]\n",
      "\n",
      "That isn't what I'm talking about.\n",
      "[start] Я не об этом говорю [end]\n",
      "\n"
     ]
    }
   ],
   "source": [
    "rus_index_lookup = dict(enumerate(rus_vectorization.get_vocabulary()))\n",
    "\n",
    "def decode_sequence(\n",
    "    input_sentence, \n",
    "    max_decoded_sentence_length = 12\n",
    "):\n",
    "    tokenized_input_sentence = eng_vectorization([input_sentence])\n",
    "    decoded_sentence = \"[start]\"\n",
    "    \n",
    "    for i in range(max_decoded_sentence_length):\n",
    "        tokenized_target_sentence = rus_vectorization([decoded_sentence])\n",
    "        \n",
    "        predicted_next_token = seq2seq_transformer.predict(\n",
    "            [tokenized_input_sentence, tokenized_target_sentence[:,:-1]], \n",
    "            verbose=0\n",
    "        )\n",
    "        \n",
    "        sampled_token_index = np.argmax(predicted_next_token[0, i, :])\n",
    "        sampled_token = rus_index_lookup[sampled_token_index]\n",
    "        decoded_sentence += \" \" + sampled_token\n",
    "        if sampled_token == \"[end]\":\n",
    "            break\n",
    "    return decoded_sentence\n",
    "\n",
    "for _ in range(20):\n",
    "    random_english_sentence_index = random.randint(0, num_val_samples - 1)\n",
    "    input_sentence = test_pairs[random_english_sentence_index][0]\n",
    "    \n",
    "    print(input_sentence)\n",
    "    print(decode_sequence(input_sentence), end='\\n\\n')"
   ]
  },
  {
   "cell_type": "markdown",
   "id": "e522e312-bf08-4714-9afa-e3c6aee18064",
   "metadata": {},
   "source": [
    "[UNK] refers to a word that was not tokenised because it did not appear frequently enough in the training corpus. The `vocab_size` hyperparameter from early controls this limit."
   ]
  }
 ],
 "metadata": {
  "kernelspec": {
   "display_name": "Python 3 (ipykernel)",
   "language": "python",
   "name": "python3"
  },
  "language_info": {
   "codemirror_mode": {
    "name": "ipython",
    "version": 3
   },
   "file_extension": ".py",
   "mimetype": "text/x-python",
   "name": "python",
   "nbconvert_exporter": "python",
   "pygments_lexer": "ipython3",
   "version": "3.12.4"
  }
 },
 "nbformat": 4,
 "nbformat_minor": 5
}
