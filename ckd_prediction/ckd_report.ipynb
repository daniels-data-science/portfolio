{
 "cells": [
  {
   "cell_type": "markdown",
   "id": "f1f83bb2-e995-4c9a-b9fc-61b32073d6d7",
   "metadata": {},
   "source": [
    "# **Clinical Predictors for Chronic Kidney Disease: An Exploration using Random Forest Modelling** "
   ]
  },
  {
   "cell_type": "markdown",
   "id": "0ed02fcb-ae86-4bfa-ba0a-b39e7196ad79",
   "metadata": {
    "jp-MarkdownHeadingCollapsed": true,
    "tags": []
   },
   "source": [
    "## Introduction\n",
    "This project aims to explore multiple clinical markers' predictive potential for chronic kidney disease (CKD). Though the many of the markers' relation to CKD are well established, this project shows quantify the correlations, while leveraging visualisations for a more user-friendly interpretation. We will also construct a machine learning model for predicting CKD. \n",
    "\n",
    "Our dataset was created by [Rubini et al.](https://archive.ics.uci.edu/dataset/336/chronic+kidney+disease), over a two-month period from an unspecified hospital in India. \n",
    "* The variable of interest is CKD/no CKD\n",
    "* Predictive cinical attributes are:\n",
    "    * age\n",
    "    * blood pressure\n",
    "    * specific gravity\n",
    "    * albumin\n",
    "    * sugar \n",
    "    * red blood cells\n",
    "    * pus cell\n",
    "    * pus cell clumps\n",
    "    * bacteria\n",
    "    * blood glucose random\n",
    "    * blood urea\n",
    "    * serum creatinine\n",
    "    * sodium\n",
    "    * potassium\n",
    "    * hemoglobin\n",
    "    * packed cell volume\n",
    "    * white blood cell count\n",
    "    * red blood cell count\n",
    "    * hypertension\n",
    "    * diabetes mellitus\n",
    "    * coronary artery disease\n",
    "    * appetite\n",
    "    * pedal edema\n",
    "    * anemia\n",
    "    \n",
    "    (units unspecified but will be standardised anyways)\n",
    "\n",
    "### CKD Definition\n",
    "Firstly, we should note that classifying a patient as 'has CKD' or 'has no CKD' is not absolutely objective. As always, clinicians' discretion is a major consideration and diagnostic criterion differ from between countries. Though the dataset was collected in India, this project will approach CKD from the perspective of Australian healthcare. This project follows Kidney Health Australia's [CKD handbook](https://kidney.org.au/uploads/resources/CKD-Management-in-Primary-Care_handbook_2020.1.pdf) definition of CKD as:\n",
    "* an estimated or measured glomerular filtration rate (GFR) less than 60mL/min/1.73m<sup>2</sup> present for over 3 months\n",
    "\n",
    "OR\n",
    "\n",
    "* evidence of kidney damage, as evidenced through albuminuria, haematuria, structural abnormalities or pathological abnormalities\n",
    "\n",
    "This definition should suggest of the relevance of many features."
   ]
  },
  {
   "cell_type": "markdown",
   "id": "2b2515e9-a457-4d8f-b174-2f887cae1689",
   "metadata": {
    "tags": []
   },
   "source": [
    "## Preprocessing"
   ]
  },
  {
   "cell_type": "code",
   "execution_count": 1,
   "id": "c084d0b9-4924-4896-a9eb-c55e9b4e794a",
   "metadata": {},
   "outputs": [],
   "source": [
    "import warnings\n",
    "warnings.filterwarnings(\"ignore\") # for display cleanliness\n",
    "\n",
    "import numpy as np\n",
    "import pandas as pd\n",
    "import matplotlib.pyplot as plt\n",
    "from matplotlib.colors import ListedColormap\n",
    "import seaborn as sns\n",
    "\n",
    "from sklearn import preprocessing\n",
    "from sklearn import metrics\n",
    "from sklearn.model_selection import train_test_split, GridSearchCV\n",
    "from sklearn.ensemble import RandomForestClassifier"
   ]
  },
  {
   "cell_type": "markdown",
   "id": "a9886fa5-bf7d-4e6d-8484-ceca35acf5cd",
   "metadata": {
    "tags": []
   },
   "source": [
    "#### Loading dataset"
   ]
  },
  {
   "cell_type": "code",
   "execution_count": 2,
   "id": "a26f38b5-8dc1-412e-8aab-70bfd9d6551f",
   "metadata": {
    "tags": []
   },
   "outputs": [],
   "source": [
    "df = pd.read_csv(\n",
    "    r'C:\\Users\\az231\\Downloads\\Datasets\\Chronic_Kidney_Disease\\chronic_kidney_disease_full.arff', \n",
    "    skiprows=145, \n",
    "    sep=',', \n",
    "    on_bad_lines='warn', \n",
    "    header=None, \n",
    "    na_values='?',\n",
    "    names = [\n",
    "        'age', \n",
    "        'blood pressure', \n",
    "        'specific gravity',\n",
    "        'albumin', \n",
    "        'sugar', \n",
    "        'red blood cells', \n",
    "        'pus cell', \n",
    "        'pus cell clumps', \n",
    "        'bacteria', \n",
    "        'blood glucose random', \n",
    "        'blood urea', \n",
    "        'serum creatinine', \n",
    "        'sodium', \n",
    "        'potassium', \n",
    "        'hemoglobin', \n",
    "        'packed cell volume', \n",
    "        'white blood cell count', \n",
    "        'red blood cell count', \n",
    "        'hypertension', \n",
    "        'diabetes mellitus', \n",
    "        'coronary artery disease', \n",
    "        'appetite', \n",
    "        'pedal edema', \n",
    "        'anemia', \n",
    "        'class'\n",
    "    ]\n",
    ")"
   ]
  },
  {
   "cell_type": "markdown",
   "id": "c674b4aa-46c9-444c-9fb7-4b87592acea4",
   "metadata": {
    "tags": []
   },
   "source": [
    "#### Cleaning dataset"
   ]
  },
  {
   "cell_type": "code",
   "execution_count": 3,
   "id": "3d252dcc-5816-4dac-a868-f2ddb10513e6",
   "metadata": {
    "tags": []
   },
   "outputs": [],
   "source": [
    "for col_name in df.select_dtypes(exclude='number').columns:\n",
    "    df[col_name] = df[col_name].str.strip()\n",
    "df.replace('?', np.nan, inplace=True)\n",
    "df['packed cell volume'] = df['packed cell volume'].astype(float)\n",
    "df['white blood cell count'] = df['white blood cell count'].astype(float)\n",
    "df['red blood cell count'] = df['red blood cell count'].astype(float)\n",
    "df = df.replace(\n",
    "    {\n",
    "        'notpresent':0,\n",
    "        'present':1,\n",
    "        'ckd':1,\n",
    "        'notckd':0,\n",
    "        'yes':1,\n",
    "        'no':0,\n",
    "        'good':1,\n",
    "        'poor':0,\n",
    "        'abnormal':1,\n",
    "        'normal':0\n",
    "    }\n",
    ")\n",
    "df.rename(columns={'pus cell':'pus cell_abnormal'}, inplace=True)"
   ]
  },
  {
   "cell_type": "markdown",
   "id": "bf7d0fd2-1301-4428-8072-fdff7f9532ec",
   "metadata": {
    "tags": []
   },
   "source": [
    "#### Missing values of 'ckd' and 'notckd'"
   ]
  },
  {
   "cell_type": "code",
   "execution_count": 4,
   "id": "de8fdea3-da6d-4b15-8a37-9b39b534b5e5",
   "metadata": {
    "tags": []
   },
   "outputs": [
    {
     "data": {
      "image/png": "[encoded data removed]",
      "text/plain": [
       "<Figure size 640x480 with 1 Axes>"
      ]
     },
     "metadata": {},
     "output_type": "display_data"
    }
   ],
   "source": [
    "ckd = df[df['class']==1]\n",
    "notckd = df[df['class']==0]\n",
    "\n",
    "ckd_prop_missing = (\n",
    "    ckd.isna().sum()/ckd.shape[0]\n",
    ").sort_values().to_frame(name=\"ckd\")\n",
    "\n",
    "notckd_prop_missing = (\n",
    "    notckd.isna().sum()/ notckd.shape[0]\n",
    ").sort_values().to_frame(name=\"notckd\")\n",
    "\n",
    "missing_prop = pd.concat([ckd_prop_missing, notckd_prop_missing], axis=1)\n",
    "missing_prop.plot(\n",
    "    kind='bar', \n",
    "    title='Proportion of individuals with missing feature',\n",
    ")\n",
    "\n",
    "plt.legend(labels=['CKD', 'No CKD'])\n",
    "plt.show()"
   ]
  },
  {
   "cell_type": "markdown",
   "id": "5936cdac-9dc7-4713-9885-c7a402902552",
   "metadata": {},
   "source": [
    "For patients with CKD, there is a higher chance of missing values for most features. Hence, 'missing information' itself is a correlatable attribute.\n",
    "* Therefore, a new column about value 'missingness' will be created for every feature.\n",
    "* In the original feature columns, the missing value will be filled with an average value. \n",
    "  * If there are little unique values, use mode instead of mean."
   ]
  },
  {
   "cell_type": "code",
   "execution_count": 5,
   "id": "89319bbc-8f2c-455f-9712-2ee9078a87f3",
   "metadata": {
    "tags": []
   },
   "outputs": [],
   "source": [
    "for subgroup in [ckd, notckd]:\n",
    "    for col_name in subgroup.columns[:-1]:\n",
    "        \n",
    "        # creating a 'missing' feauture for given column\n",
    "        subgroup[f'{col_name}_missing'] = subgroup[col_name].isna().astype('int8')\n",
    "        \n",
    "        # filling missing value with average of given column\n",
    "        if subgroup[col_name].nunique() > 4:\n",
    "            subgroup[col_name] = subgroup[col_name].fillna(subgroup[col_name].mean())\n",
    "        else: \n",
    "            subgroup[col_name] = subgroup[col_name].fillna(subgroup[col_name].mode()[0])"
   ]
  },
  {
   "cell_type": "code",
   "execution_count": 6,
   "id": "615cc963-9d4e-4c98-8f8d-c88b0e5ab165",
   "metadata": {
    "tags": []
   },
   "outputs": [
    {
     "name": "stdout",
     "output_type": "stream",
     "text": [
      "0\n"
     ]
    }
   ],
   "source": [
    "df = pd.concat([ckd, notckd])\n",
    "print(df.isna().sum().sum()) # df now contains no missing values"
   ]
  },
  {
   "cell_type": "markdown",
   "id": "46a4bbc5-b8ff-4dfa-afdf-e6412d623ab8",
   "metadata": {},
   "source": [
    "#### Exploratory Data Analysis"
   ]
  },
  {
   "cell_type": "code",
   "execution_count": 7,
   "id": "05aa7eff-13fc-4997-b44e-01f892b963a6",
   "metadata": {
    "tags": []
   },
   "outputs": [],
   "source": [
    "df.to_csv('Clinical Predictors for Chronic Kidney Disease (CKD).csv')"
   ]
  },
  {
   "cell_type": "markdown",
   "id": "7c351261-f0b9-4d39-81bf-5689436efbbc",
   "metadata": {},
   "source": [
    "#### Seperating into features and target then train/test groups"
   ]
  },
  {
   "cell_type": "code",
   "execution_count": 8,
   "id": "fab93f43-84f0-480b-9c9c-8f6181fff115",
   "metadata": {
    "tags": []
   },
   "outputs": [],
   "source": [
    "X = df.copy()\n",
    "y = X.pop('class')\n",
    "X = preprocessing.StandardScaler().fit_transform(X)\n",
    "\n",
    "X_train, X_test, y_train, y_test = train_test_split(\n",
    "    \n",
    "    X, \n",
    "    # features\n",
    "    \n",
    "    y, \n",
    "    # target\n",
    "    \n",
    "    stratify = y,\n",
    "    # maintains class proportion when splitting\n",
    "    \n",
    "    test_size = 0.1 \n",
    "    # test size is only 10% since cross-validation through gridsearch will be used\n",
    ")"
   ]
  },
  {
   "cell_type": "markdown",
   "id": "512a4319-9cb3-4f1d-a2b6-fb796228b6b8",
   "metadata": {
    "tags": []
   },
   "source": [
    "## Modelling"
   ]
  },
  {
   "cell_type": "code",
   "execution_count": 9,
   "id": "4a1a5502-d87c-42e0-9bcb-c68be0a18adb",
   "metadata": {
    "tags": []
   },
   "outputs": [],
   "source": [
    "param_grid = {\n",
    "    'min_samples_split': [2, 5, 10],\n",
    "    'min_samples_leaf': [1, 2, 4],\n",
    "    'max_features': ['sqrt', 'log2']\n",
    "}"
   ]
  },
  {
   "cell_type": "code",
   "execution_count": 11,
   "id": "e75608d3-44ee-4345-9f3a-b763bfda8e02",
   "metadata": {
    "tags": []
   },
   "outputs": [
    {
     "name": "stdout",
     "output_type": "stream",
     "text": [
      "              precision    recall  f1-score   support\n",
      "\n",
      "           0       1.00      1.00      1.00        15\n",
      "           1       1.00      1.00      1.00        25\n",
      "\n",
      "    accuracy                           1.00        40\n",
      "   macro avg       1.00      1.00      1.00        40\n",
      "weighted avg       1.00      1.00      1.00        40\n",
      "\n"
     ]
    },
    {
     "data": {
      "image/png": "[encoded data removed]",
      "text/plain": [
       "<Figure size 640x480 with 1 Axes>"
      ]
     },
     "metadata": {},
     "output_type": "display_data"
    }
   ],
   "source": [
    "grid_search = GridSearchCV(\n",
    "    RandomForestClassifier(), \n",
    "    param_grid, \n",
    "    cv=5, \n",
    "    scoring='accuracy',\n",
    "    n_jobs=-1\n",
    ").fit(X_train, y_train)\n",
    "predicted = grid_search.predict(X_test)\n",
    "\n",
    "sns.heatmap(\n",
    "    metrics.confusion_matrix(y_test, predicted), \n",
    "    annot=True, \n",
    "    fmt=\"d\", \n",
    "    cbar = False,\n",
    "    cmap=ListedColormap(['grey']),\n",
    "    linewidths=0.5,\n",
    "    square=True,\n",
    "    xticklabels=[\"no CKD\", \"CKD\"],\n",
    "    yticklabels=[\"no CKD\", \"CKD\"],\n",
    ")\n",
    "\n",
    "# Set labels and title\n",
    "plt.xlabel(\"Predicted\")\n",
    "plt.ylabel(\"Actual\")\n",
    "plt.title(\"Confusion Matrix\")\n",
    "\n",
    "print(\n",
    "    metrics.classification_report(\n",
    "        y_test,\n",
    "        predicted\n",
    "    )\n",
    ")"
   ]
  },
  {
   "cell_type": "markdown",
   "id": "ce9a41e2-3b53-42cf-b724-26f0076f89d0",
   "metadata": {},
   "source": [
    "## Discussion"
   ]
  },
  {
   "cell_type": "markdown",
   "id": "524c05e3-0601-4e64-9378-dc75f24ad89a",
   "metadata": {},
   "source": [
    "### Significance of each predictor\n"
   ]
  },
  {
   "cell_type": "markdown",
   "id": "b79a58f3-ca5c-44cf-9c13-f99ec9d62ff9",
   "metadata": {},
   "source": [
    "### Privacy Considerations\n",
    "Rubini et al. did not disclose any demographic or identifiable information in the dataset. This project regarded only those provided clinical attributes, making no attempt to identify any individuals. "
   ]
  },
  {
   "cell_type": "markdown",
   "id": "89ef14ac-3660-4528-b8da-3b6908423103",
   "metadata": {},
   "source": [
    "# References\n",
    "1. Rubini, L., Soundarapandian, P., and Eswaran, P. (2015) Chronic_Kidney_Disease. UCI Machine Learning Repository. Available at: https://archive.ics.uci.edu/dataset/336/chronic+kidney+disease [Accessed: 23 June 2023]. DOI: https://doi.org/10.24432/C5G020.\n",
    "\n",
    "2. Kidney Health Australia (2020). Chronic Kidney Disease (CKD) Management in Primary Care (4th ed.). Melbourne: Kidney Health Australia. Available at: https://kidney.org.au/uploads/resources/CKD-Management-in-Primary-Care_handbook_2020.1.pdf [Accessed 23 June 2023]. p.22."
   ]
  }
 ],
 "metadata": {
  "kernelspec": {
   "display_name": "Python 3 (ipykernel)",
   "language": "python",
   "name": "python3"
  },
  "language_info": {
   "codemirror_mode": {
    "name": "ipython",
    "version": 3
   },
   "file_extension": ".py",
   "mimetype": "text/x-python",
   "name": "python",
   "nbconvert_exporter": "python",
   "pygments_lexer": "ipython3",
   "version": "3.9.16"
  }
 },
 "nbformat": 4,
 "nbformat_minor": 5
}
